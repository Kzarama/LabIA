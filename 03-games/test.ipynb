{
 "nbformat": 4,
 "nbformat_minor": 2,
 "metadata": {
  "language_info": {
   "name": "python",
   "codemirror_mode": {
    "name": "ipython",
    "version": 3
   },
   "version": "3.7.4-final"
  },
  "orig_nbformat": 2,
  "file_extension": ".py",
  "mimetype": "text/x-python",
  "name": "python",
  "npconvert_exporter": "python",
  "pygments_lexer": "ipython3",
  "version": 3,
  "kernelspec": {
   "name": "python37464bitbaseconda382dd9c8a6244264a9107353e8a52713",
   "display_name": "Python 3.7.4 64-bit ('base': conda)"
  }
 },
 "cells": [
  {
   "cell_type": "code",
   "execution_count": 16,
   "metadata": {},
   "outputs": [],
   "source": [
    "def generate_children(node, chosen_symbol): # TODO: Create a function to generate the children states for minimax evaluation\n",
    "    result = []\n",
    "    for i in range(9):\n",
    "        if node[i] == None:\n",
    "            node_aux = node.copy()\n",
    "            node_aux[i] = chosen_symbol\n",
    "            result.append(node_aux)                \n",
    "    return result"
   ]
  },
  {
   "cell_type": "code",
   "execution_count": 19,
   "metadata": {},
   "outputs": [
    {
     "output_type": "stream",
     "name": "stdout",
     "text": "7\n"
    },
    {
     "output_type": "execute_result",
     "data": {
      "text/plain": "[['x', None, None, 'o', 'o', None, None, None, None],\n [None, 'x', None, 'o', 'o', None, None, None, None],\n [None, None, 'x', 'o', 'o', None, None, None, None],\n [None, None, None, 'o', 'o', 'x', None, None, None],\n [None, None, None, 'o', 'o', None, 'x', None, None],\n [None, None, None, 'o', 'o', None, None, 'x', None],\n [None, None, None, 'o', 'o', None, None, None, 'x']]"
     },
     "metadata": {},
     "execution_count": 19
    }
   ],
   "source": [
    "node = [None, None, None, 'o', 'o', None, None, None, None]\n",
    "\n",
    "result = generate_children(node, 'x')\n",
    "print(len(result))\n",
    "result"
   ]
  }
 ]
}